{
 "cells": [
  {
   "cell_type": "markdown",
   "metadata": {},
   "source": [
    "# Capstone Scenario (Project Objective)\n",
    "## Background\n",
    "Your project should assess and recommend a recommender solution for the following scenario:\n",
    "\n",
    "You work for a large online retailer (we’ll call it Nile-River.com) as a recommender systems expert on a team focused on direct sales to consumers in the US.\n",
    "\n",
    "Your market research team has identified **“back to school”** as a critical time period for **office product** sales to consumers in the US. They note that the six weeks including and surrounding the month of August are responsible for 31% of yearly office product sales.\n",
    "\n",
    "They also report that the surge in office product sales is not limited to traditional school products (such as notebooks, pencils, and erasers). Rather, **it appears that once people are buying school products, they also buy other office products** (indeed, more document shredders are sold during these six weeks than at any other time of the year, even tax preparation season).\n",
    "\n",
    "Indeed, most large-dollar office-product purchases include **a mix of inexpensive and more expensive products in the same transaction**. This data suggests that it may be important to have inexpensive products as an entry point, but more expensive ones that build the transaction size. (For example, I buy paper and pens, and then realize I need several hundred dollars of laser printer toner.) Or alternatively that once someone comes to buy something large, they also fill in smaller items (one I’m buying a new printer, I might as well also buy a calculator and a box of colored paper clips).\n",
    "\n",
    "They suspect that the surge in office product sales is due to in-person sales and promotion at retail outlets, with two particularly important prompts:\n",
    "\n",
    "- Visits to office products superstores (chain stores such as Staples and Office Depot) peak during this time of year. Once parents are in the store to buy supplies for their children, they see other products of interest.\n",
    "- Special displays are set up at “Big-Box” stores such as Wal-mart and Target with both school supplies and other office products.\n",
    "\n",
    "## Problem statement. \n",
    "Unfortunately, your site (Nile-River.com) does not experience as large a surge in office product sales during the back-to-school period. You do experience a surge (about double typical sales, or about 23% of annual consumer sales), but it is far below that of your offline competitors.\n",
    "\n",
    "These figures include the results of existing promotions such as back-to-school banners and a free next-day shipping promotion for products sold during the two weeks when schools most commonly start classes (late August and early September).\n",
    "\n",
    "Your challenge, therefore, is to **develop a recommender system to increase sales of office products during this important time period**. To maximize business value, you also have a set of key goals and constraints.\n",
    "\n",
    "Given that your site **already has a very effective product-association recommender system**, you’ve been asked to **focus on recommending products based on customer’s overall profiles, not their current browsing or basket**.\n",
    "\n",
    "Your product recommendations will be displayed in two places on the site:\n",
    "\n",
    "- **Five products displayed on the “office products” landing page** where customers will land if they click on banner ads (back to school shopping!) or select the office products category (from various menus or navigation aids).\n",
    "- **Five products displayed as part of “other suggestions”** that will be displayed as part of the shopping cart display and near the bottom of product pages (primarily will be placed on product pages from the same category, but also related products such as textbooks, school bags, and backpacks).\n",
    "\n",
    "Research shows that **additional sales at this time of year are divided fairly broadly among categories of office products (school supplies, consumable supplies, durable office equipment)**. Your recommender should respond to this research appropriately.\n",
    "\n",
    "Your recommender should also address the finding above about having **both cheaper and more expensive products** available to attract customers.\n",
    "\n",
    "Finally, Nile-River.com prides itself on having a much deeper product catalog than the typical big-box store. One of the key drivers of repeat business is **customer discovery of new products they likely couldn’t buy at a local store**. Your recommender should respond to this information appropriately.\n",
    "\n",
    "## Part I: Designing a Measurement and Evaluation Plan (joint)\n",
    "Your first task is to develop a written capstone project plan. Specifically, this plan should detail a set of objective measures that will be used to evaluate candidate recommender systems as well as a clear plan for the multi-step evaluation process. Among the elements of this plan are:\n",
    "\n",
    "- **Translation of business goals and constraints into metrics and measurable criteria**. This critical section (approximately one page) should explain how (using techniques based on what you’ve learned in the specialization) you will evaluate a set of potential recommender algorithm candidates to determine which is the best fit for your capstone scenario. You must be about the goals and specific measures, though you do not need to combine the various into a single measure -- it is acceptable to decide that you will look at the trade-offs among different objectives before selecting a final combination.\n",
    "- **A plan for evaluating a set of base algorithms.** This plan must identify at least three different algorithms from different families, explain why these are the algorithms you’ve chosen, and explain how they will be implemented (honors only), tuned (honors only), and evaluated against your dataset and metrics (both tracks). Pay careful attention to making sure that you do not taint your evaluation by training and testing on the same data (or by tuning and testing on the same data). This plan is what you will carry out in part II of the capstone project. The length of this part of the capstone report should be 1-3 pages.\n",
    "- **A plan for constructing and evaluating hybrid algorithms.** Your final algorithm will likely need some of the properties of different algorithms, and you should therefore plan to explore at least two, and possibly more, hybrids that mix together different algorithms. You are free to use weighted, switching, hybrid, or other mixture methods depending on what you see as most appropriate for achieving your goals. Because the exact mixtures you choose will likely depend on the specific outcomes of your base algorithm evaluation, this section of the plan can be short -- simply give a description of a half-page to a full-page explaining how you would explore combining different algorithms, and how you would evaluate the combination. You’ll report on the details later.\n",
    "\n",
    "\n",
    "## Part II: Measurement (separate)\n",
    "Standard (Non-Programming) Version\n",
    "For the standard version of this assignment, you have been provided with the predicted rating outputs from five different algorithms: \n",
    "- a TFIDF content-based recommender, \n",
    "- an item-item collaborative filtering recommender, \n",
    "- a matrix factorization (gradient descent) recommender, \n",
    "- a user-user collaborative filtering recommender, \n",
    "- a baseline recommend that uses product and customer ratings distributions to provide personally-scaled average predictions (PersBias).\n",
    "\n",
    "\n",
    "Note that these predicted ratings include predictions for all items (including rated ones) as you will need those predictions to compute your evaluation metrics.\n",
    "\n",
    "For part II of this assignment, you must calculate a set of metrics for at least three of these algorithms (it may be useful to do all five). The metrics are those that you identified above as relevant to the business goals of your algorithm, though in some cases you may need to make compromises to find close-enough metrics that you are able to compute.\n",
    "\n",
    "In particular, your metrics will cover some subset of the following types of measurements, all of which can be achieved using a spreadsheet and techniques that were used in the four prior courses:\n",
    "\n",
    "- Accuracy measures -- measures that look at the difference between known “ground truth” data (e.g., provided ratings) and predicted ratings. You are not likely to need more than one accuracy measure for this capstone.\n",
    "- Rank measures -- measures that look at how often the top-recommended items for each user are actually items the user has rated/liked.\n",
    "- Top-n characteristic measures -- measures that look at properties of the top-recommended items for each user, such as popularity, diversity along some characteristic, etc.\n",
    "### Deliverable. \n",
    "In your report you should provide \n",
    "- a summary table of the statistics, along with the conclusions you draw about the strengths and weaknesses of the different algorithms for this particular data set and objective. \n",
    "- You should also identify the specific algorithms you plan to carry forward into the next phase to mix into your final algorithm.\n",
    "\n",
    "\n",
    "\n",
    "## Part III: Mixing the Algorithms (separate)\n",
    "Standard (Non-Programming) Version\n",
    "Next, you will explore at least four combinations of algorithms to produce the best possible hybrid algorithm for this dataset and objective (based on your defined criteria. Remember to anchor this exploration and evaluation to the metrics of importance -- when using top-n, we recommend focusing on **top-5**. Note that it is acceptable to include recommendations for products already rated, since office products are a domain where re-purchase is common). Your goal is to produce top-5 lists that provide the best performance against your combined set of criteria.\n",
    "\n",
    "The specific hybrids you use may include ones that combine prediction scores from different algorithms, then produce a new top-5 list, and ones that combine the top-5 lists generated by individual algorithms. You may also create “single-algorithm mixes” that apply specific criteria to existing algorithms (e.g., diversification) or across multiple algorithms. And you may incorporate switching hybrids that use different algorithms for different customers or products.\n",
    "\n",
    "In some cases you may not be able to automate these computations in a spreadsheet. Where this is the case, please feel free to either hand-calculate results for just 10 users or to use external tools or programming to generate the mixture (some of you will prefer to do this, for example, using Python).\n",
    "\n",
    "#### Deliverable. In the end, you will have evaluated at least three combinations against your criteria, and should provide three things in your final report:\n",
    "\n",
    "- A list of the hybrids tried with a clear explanation of the specific form of hybrid used. For each hybrid, give a brief explanation of why you chose to use that hybrid (what did you hope it would achieve).\n",
    "- A table of metric results for each of your hybrids and the results of each of the component algorithms.\n",
    "- A set of sample outputs for each of your hybrids and component algorithms -- give the top-5 recommendation lists for three different users.\n",
    "\n",
    "\n",
    "## Part IV: Proposal and Reflection (joint)\n",
    "The final part of your project is a brief “business proposal” and a reflection on what you’ve learned in the project.\n",
    "\n",
    "Deliverable. The first deliverable is a two-page “business proposal” for the recommender choice you’ve determined is best. It should be written to be accessible to a non-technical reader, and should address the following items:\n",
    "\n",
    "- Short summary of the business need and opportunity\n",
    "- Explanation of the evaluation criteria used (in terms understandable to a non-expert)\n",
    "- Non-expert description of the recommender algorithm being recommended\n",
    "- Explanation of why this algorithm is recommended over other alternatives\n",
    "- Example recommendation lists to illustrate how this algorithm meets the business need\n",
    "- Brief notes on anything you feel would be important to explain about the research process or result\n",
    "- These do not need to be separate sections (e.g., you might choose to use the examples in the explanation, or describe the criteria as part of explaining why your chosen algorithm is recommended).\n",
    "\n",
    "Deliverable. The second deliverable for this part of the capstone is a reflection document on the process, approximately two pages, but no fixed limit, addressing at least the following five questions.\n",
    "\n",
    "- Reflect on the process of translating business requirements to metrics. What was easy or hard about that process? Do you feel you had adequate preparation in the specialization to take on such a task?\n",
    "- Reflect on the process of evaluating individual algorithms and creating hybrids. How easy or hard was it to identify differences in performance of algorithms on different criteria? How easy or hard was is to bring together elements from different algorithms through hybrids? How confident are you that your final result is a good algorithm for the problem.\n",
    "- Reflect on data management, including the process of separating training and test data. How well were you able to maintain that separation and avoid overfitting your dataset? How confident are you in the generalizability of your result to other similar datasets?\n",
    "- Reflect on the tools you used for this capstone (whether spreadsheet, LensKit, or external ones). Do you feel you had the experience and skill with the tools you needed for the capstone? Do you feel the tool was a good match for the problem (and if not, what would you have preferred)? Please identify areas where the tools were particularly helpful or particularly challenging.\n",
    "- Finally, reflect on the capstone experience as a whole. Did it achieve its goal of giving you one project to bring together the diverse set of materials you learned in this specialization? Do you feel more capable of (or confident in your ability for) taking on applications of recommender systems? Other lessons you’re willing to share?"
   ]
  },
  {
   "cell_type": "code",
   "execution_count": 1,
   "metadata": {},
   "outputs": [],
   "source": [
    "import pandas as pd\n",
    "import numpy as np"
   ]
  },
  {
   "cell_type": "code",
   "execution_count": 188,
   "metadata": {},
   "outputs": [],
   "source": [
    "MF = pd.read_csv('MF.csv', index_col=0)\n",
    "CBF = pd.read_csv('CBF.csv', index_col=0)\n",
    "user = pd.read_csv('user-user.csv', index_col=0)\n",
    "PersBias = pd.read_csv('PersBias.csv', index_col=0)\n",
    "rating = pd.read_csv('rating.csv', index_col=0)\n",
    "item = pd.read_csv('item.csv', index_col=0)\n",
    "item_attr = pd.read_csv('items.csv', index_col=0)"
   ]
  },
  {
   "cell_type": "code",
   "execution_count": 126,
   "metadata": {},
   "outputs": [],
   "source": [
    "result = pd.DataFrame(np.zeros((4,5)), index = ['RMSE', 'precision@5', 'popularity', 'diversity'], columns = ['PersBias', 'CBF', 'User-user', 'Item-item', 'MF'])\n",
    "\n",
    "\n",
    "item_popularity = rating.sum(axis=1) / size[1]\n",
    "cat = item_attr['LeafCat']\n",
    "k = 5\n",
    "idx = 0\n",
    "def precision_top(x, k=5, r=3.5):\n",
    "    x = x.sort_values(ascending=False).iloc[:k]\n",
    "    return (rating.loc[x.index, x.name] > r).sum()\n",
    "\n",
    "for df in [PersBias, CBF, user, item, MF]:\n",
    "    error = rating - df\n",
    "    rmse = np.sqrt(np.square(error).sum().sum()/n)\n",
    "    prec_top5 = df.apply(lambda x: precision_top(x)).mean()\n",
    "    try:\n",
    "        popularity = df.apply(lambda x: item_popularity[x.idxmax()]).mean()\n",
    "    except:\n",
    "        popularity = np.nan\n",
    "    diversity = df.apply(lambda x: cat[x.sort_values(ascending=False).iloc[:k].index].nunique()/k).mean()\n",
    "    result.iloc[:, idx]= [rmse, prec_top5, popularity, diversity]\n",
    "    idx +=1"
   ]
  },
  {
   "cell_type": "code",
   "execution_count": 145,
   "metadata": {},
   "outputs": [
    {
     "data": {
      "text/plain": [
       "count    100.000000\n",
       "mean      14.620000\n",
       "std        5.577335\n",
       "min       10.000000\n",
       "25%       11.000000\n",
       "50%       14.000000\n",
       "75%       15.250000\n",
       "max       43.000000\n",
       "dtype: float64"
      ]
     },
     "execution_count": 145,
     "metadata": {},
     "output_type": "execute_result"
    }
   ],
   "source": [
    "rating.notnull().sum(axis=0).describe()"
   ]
  },
  {
   "cell_type": "code",
   "execution_count": 171,
   "metadata": {},
   "outputs": [],
   "source": [
    "hybrid1 = (CBF + 2*item + 5*user)/8\n",
    "hybrid1['907'] = (CBF['907'] + 2*item['907'])/3"
   ]
  },
  {
   "cell_type": "code",
   "execution_count": 155,
   "metadata": {},
   "outputs": [],
   "source": [
    "hybrid2 = user.copy()"
   ]
  },
  {
   "cell_type": "code",
   "execution_count": 156,
   "metadata": {},
   "outputs": [],
   "source": [
    "select_columns = rating.columns[rating.notnull().sum(axis=0)<13]"
   ]
  },
  {
   "cell_type": "code",
   "execution_count": 159,
   "metadata": {},
   "outputs": [],
   "source": [
    "hybrid2[select_columns] = item[select_columns]"
   ]
  },
  {
   "cell_type": "code",
   "execution_count": 172,
   "metadata": {},
   "outputs": [],
   "source": [
    "result_hybrid = pd.DataFrame(np.zeros((3,3)), index = ['precision@5', 'popularity', 'diversity'], columns = ['Hybrid1', 'Hybrid2', 'Hybrid3'])\n",
    "\n",
    "\n",
    "item_popularity = rating.sum(axis=1) / size[1]\n",
    "cat = item_attr['LeafCat']\n",
    "k = 5\n",
    "idx = 0\n",
    "def precision_top(x, k=5, r=3.5):\n",
    "    x = x.sort_values(ascending=False).iloc[:k]\n",
    "    return (rating.loc[x.index, x.name] > r).sum()\n",
    "\n",
    "for df in [hybrid1, hybrid2]:\n",
    "    error = rating - df\n",
    "    # rmse = np.sqrt(np.square(error).sum().sum()/n)\n",
    "    prec_top5 = df.apply(lambda x: precision_top(x)).mean()\n",
    "    try:\n",
    "        popularity = df.apply(lambda x: item_popularity[x.idxmax()]).mean()\n",
    "    except:\n",
    "        popularity = np.nan\n",
    "    diversity = df.apply(lambda x: cat[x.sort_values(ascending=False).iloc[:k].index].nunique()/k).mean()\n",
    "    result_hybrid.iloc[:, idx]= [prec_top5, popularity, diversity]\n",
    "    idx +=1"
   ]
  },
  {
   "cell_type": "code",
   "execution_count": 173,
   "metadata": {},
   "outputs": [
    {
     "data": {
      "text/html": [
       "<div>\n",
       "<style>\n",
       "    .dataframe thead tr:only-child th {\n",
       "        text-align: right;\n",
       "    }\n",
       "\n",
       "    .dataframe thead th {\n",
       "        text-align: left;\n",
       "    }\n",
       "\n",
       "    .dataframe tbody tr th {\n",
       "        vertical-align: top;\n",
       "    }\n",
       "</style>\n",
       "<table border=\"1\" class=\"dataframe\">\n",
       "  <thead>\n",
       "    <tr style=\"text-align: right;\">\n",
       "      <th></th>\n",
       "      <th>Hybrid1</th>\n",
       "      <th>Hybrid2</th>\n",
       "      <th>Hybrid3</th>\n",
       "    </tr>\n",
       "  </thead>\n",
       "  <tbody>\n",
       "    <tr>\n",
       "      <th>precision@5</th>\n",
       "      <td>2.1400</td>\n",
       "      <td>1.9200</td>\n",
       "      <td>0.0</td>\n",
       "    </tr>\n",
       "    <tr>\n",
       "      <th>popularity</th>\n",
       "      <td>0.3511</td>\n",
       "      <td>0.3389</td>\n",
       "      <td>0.0</td>\n",
       "    </tr>\n",
       "    <tr>\n",
       "      <th>diversity</th>\n",
       "      <td>0.9420</td>\n",
       "      <td>0.9360</td>\n",
       "      <td>0.0</td>\n",
       "    </tr>\n",
       "  </tbody>\n",
       "</table>\n",
       "</div>"
      ],
      "text/plain": [
       "             Hybrid1  Hybrid2  Hybrid3\n",
       "precision@5   2.1400   1.9200      0.0\n",
       "popularity    0.3511   0.3389      0.0\n",
       "diversity     0.9420   0.9360      0.0"
      ]
     },
     "execution_count": 173,
     "metadata": {},
     "output_type": "execute_result"
    }
   ],
   "source": [
    "result_hybrid"
   ]
  },
  {
   "cell_type": "code",
   "execution_count": 204,
   "metadata": {},
   "outputs": [],
   "source": [
    "from collections import Counter\n",
    "top_score = pd.Series()\n",
    "weight = {0:1,1:0.8,2:0.6,3:0.4,4:0.2}\n",
    "# for col in rating.columns:\n",
    "for col in rating.columns:\n",
    "    dic = Counter({})\n",
    "    for df in [CBF, item, user]:\n",
    "        top5 = df[col].sort_values(ascending=False).iloc[:k]\n",
    "        top5=top5.index\n",
    "        for i, u in enumerate(top5):\n",
    "            dic[u] += weight[i]\n",
    "    top_score.loc[col] = [k for k,v in Counter(dic).most_common()[:5]]"
   ]
  },
  {
   "cell_type": "code",
   "execution_count": 205,
   "metadata": {},
   "outputs": [],
   "source": [
    "result_hybrid.loc['popularity', 'Hybrid3'] = top_score.apply(lambda x: item_popularity[x[0]]).mean()"
   ]
  },
  {
   "cell_type": "code",
   "execution_count": 207,
   "metadata": {},
   "outputs": [],
   "source": [
    "result_hybrid.loc['diversity', 'Hybrid3'] = top_score.apply(lambda x: len(set(x))/5).mean()"
   ]
  },
  {
   "cell_type": "code",
   "execution_count": 261,
   "metadata": {},
   "outputs": [],
   "source": [
    "result_hybrid.loc['precision@5', 'Hybrid3'] = pd.DataFrame(top_score).apply(lambda x: (rating.loc[x[0],x.name] > 3.5).sum(), axis=1).mean()"
   ]
  },
  {
   "cell_type": "code",
   "execution_count": 262,
   "metadata": {},
   "outputs": [
    {
     "data": {
      "text/html": [
       "<div>\n",
       "<style>\n",
       "    .dataframe thead tr:only-child th {\n",
       "        text-align: right;\n",
       "    }\n",
       "\n",
       "    .dataframe thead th {\n",
       "        text-align: left;\n",
       "    }\n",
       "\n",
       "    .dataframe tbody tr th {\n",
       "        vertical-align: top;\n",
       "    }\n",
       "</style>\n",
       "<table border=\"1\" class=\"dataframe\">\n",
       "  <thead>\n",
       "    <tr style=\"text-align: right;\">\n",
       "      <th></th>\n",
       "      <th>Hybrid1</th>\n",
       "      <th>Hybrid2</th>\n",
       "      <th>Hybrid3</th>\n",
       "    </tr>\n",
       "  </thead>\n",
       "  <tbody>\n",
       "    <tr>\n",
       "      <th>precision@5</th>\n",
       "      <td>2.1400</td>\n",
       "      <td>1.9200</td>\n",
       "      <td>1.4700</td>\n",
       "    </tr>\n",
       "    <tr>\n",
       "      <th>popularity</th>\n",
       "      <td>0.3511</td>\n",
       "      <td>0.3389</td>\n",
       "      <td>0.2993</td>\n",
       "    </tr>\n",
       "    <tr>\n",
       "      <th>diversity</th>\n",
       "      <td>0.9420</td>\n",
       "      <td>0.9360</td>\n",
       "      <td>1.0000</td>\n",
       "    </tr>\n",
       "  </tbody>\n",
       "</table>\n",
       "</div>"
      ],
      "text/plain": [
       "             Hybrid1  Hybrid2  Hybrid3\n",
       "precision@5   2.1400   1.9200   1.4700\n",
       "popularity    0.3511   0.3389   0.2993\n",
       "diversity     0.9420   0.9360   1.0000"
      ]
     },
     "execution_count": 262,
     "metadata": {},
     "output_type": "execute_result"
    }
   ],
   "source": [
    "result_hybrid"
   ]
  },
  {
   "cell_type": "code",
   "execution_count": 274,
   "metadata": {},
   "outputs": [
    {
     "data": {
      "text/html": [
       "<div>\n",
       "<style>\n",
       "    .dataframe thead tr:only-child th {\n",
       "        text-align: right;\n",
       "    }\n",
       "\n",
       "    .dataframe thead th {\n",
       "        text-align: left;\n",
       "    }\n",
       "\n",
       "    .dataframe tbody tr th {\n",
       "        vertical-align: top;\n",
       "    }\n",
       "</style>\n",
       "<table border=\"1\" class=\"dataframe\">\n",
       "  <thead>\n",
       "    <tr style=\"text-align: right;\">\n",
       "      <th></th>\n",
       "      <th>Hybrid1</th>\n",
       "      <th>Hybrid2</th>\n",
       "      <th>Hybrid3</th>\n",
       "    </tr>\n",
       "  </thead>\n",
       "  <tbody>\n",
       "    <tr>\n",
       "      <th>64</th>\n",
       "      <td>[1518, 2257, 1951, 1032, 1240]</td>\n",
       "      <td>[1518, 1317, 1951, 1790, 1240]</td>\n",
       "      <td>[2257, 1518, 1874, 1951, 1387]</td>\n",
       "    </tr>\n",
       "    <tr>\n",
       "      <th>65</th>\n",
       "      <td>[45, 619, 1461, 1377, 2257]</td>\n",
       "      <td>[2257, 1874, 1032, 1890, 779]</td>\n",
       "      <td>[2257, 1032, 1874, 45, 1763]</td>\n",
       "    </tr>\n",
       "    <tr>\n",
       "      <th>75</th>\n",
       "      <td>[327, 2080, 1806, 2101, 2169]</td>\n",
       "      <td>[2169, 191, 2257, 24, 327]</td>\n",
       "      <td>[2257, 327, 2169, 2080, 1874]</td>\n",
       "    </tr>\n",
       "  </tbody>\n",
       "</table>\n",
       "</div>"
      ],
      "text/plain": [
       "                           Hybrid1                         Hybrid2  \\\n",
       "64  [1518, 2257, 1951, 1032, 1240]  [1518, 1317, 1951, 1790, 1240]   \n",
       "65     [45, 619, 1461, 1377, 2257]   [2257, 1874, 1032, 1890, 779]   \n",
       "75   [327, 2080, 1806, 2101, 2169]      [2169, 191, 2257, 24, 327]   \n",
       "\n",
       "                           Hybrid3  \n",
       "64  [2257, 1518, 1874, 1951, 1387]  \n",
       "65    [2257, 1032, 1874, 45, 1763]  \n",
       "75   [2257, 327, 2169, 2080, 1874]  "
      ]
     },
     "execution_count": 274,
     "metadata": {},
     "output_type": "execute_result"
    }
   ],
   "source": [
    "pd.DataFrame({'Hybrid1': hybrid1.iloc[:,:3].apply(lambda x: x.sort_values(ascending=False).index[:5].tolist()),\n",
    "              'Hybrid2': hybrid2.iloc[:,:3].apply(lambda x: x.sort_values(ascending=False).index[:5].tolist()), \n",
    "              'Hybrid3':top_score[:3]})"
   ]
  },
  {
   "cell_type": "code",
   "execution_count": null,
   "metadata": {},
   "outputs": [],
   "source": []
  }
 ],
 "metadata": {
  "kernelspec": {
   "display_name": "Python 3",
   "language": "python",
   "name": "python3"
  },
  "language_info": {
   "codemirror_mode": {
    "name": "ipython",
    "version": 3
   },
   "file_extension": ".py",
   "mimetype": "text/x-python",
   "name": "python",
   "nbconvert_exporter": "python",
   "pygments_lexer": "ipython3",
   "version": "3.6.3"
  }
 },
 "nbformat": 4,
 "nbformat_minor": 2
}
